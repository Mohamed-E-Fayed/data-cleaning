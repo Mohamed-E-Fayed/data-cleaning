{
 "cells": [
  {
   "cell_type": "code",
   "execution_count": null,
   "id": "affected-negotiation",
   "metadata": {},
   "outputs": [],
   "source": [
    "import re\n",
    "\n",
    "def remove_unwanted_symbols(sent: str):\n",
    "    \"\"\"\n",
    "\n",
    "    remove unwanted symbols\n",
    "\n",
    "    \"\"\"\n",
    "    \n",
    "    \n",
    "    symbols = '[\\(\\)|/#&%*\\[\\]《》\\{\\}~<=>`——-]+'\n",
    "    sent = re.sub(symbols, \"\", sent)\n",
    "    return sent.strip()"
   ]
  },
  {
   "cell_type": "code",
   "execution_count": null,
   "id": "fifth-spell",
   "metadata": {},
   "outputs": [],
   "source": [
    "print(remove_unwanted_symbols(\"Hel{l}o...\"))"
   ]
  },
  {
   "cell_type": "code",
   "execution_count": 6,
   "id": "dated-louisiana",
   "metadata": {},
   "outputs": [],
   "source": [
    "!pip install camel-tools\n",
    "!camel_data full"
   ]
  },
  {
   "cell_type": "code",
   "execution_count": 9,
   "id": "activated-guest",
   "metadata": {},
   "outputs": [
    {
     "name": "stdout",
     "output_type": "stream",
     "text": [
      "تريد إخباري ماذا أنت تعتقد 122?\n"
     ]
    }
   ],
   "source": [
    "import camel_tools as camel\n",
    "from camel_tools.utils.stringutils import force_encoding, force_unicode\n",
    "from camel_tools.utils.charmap import CharMapper\n",
    "\n",
    "def ar_clean(mapper, sent: str):\n",
    "    sent = force_unicode(sent)\n",
    "    return mapper.map_string(sent)\n",
    "\n",
    "\n",
    "mapper = CharMapper.builtin_mapper('arclean')\n",
    "print(ar_clean(mapper, \"تُريدُ إخْباري ماذا أنت تَعتقدُ 122؟\"))"
   ]
  },
  {
   "cell_type": "code",
   "execution_count": 10,
   "id": "synthetic-minister",
   "metadata": {},
   "outputs": [
    {
     "name": "stdout",
     "output_type": "stream",
     "text": [
      "['اريد', 'ان', 'اذهب', 'الى', 'السينما', ',', 'المتحف']\n"
     ]
    }
   ],
   "source": [
    "from camel_tools.tokenizers.word import simple_word_tokenize\n",
    "print(simple_word_tokenize(\"اريد ان اذهب الى السينما, المتحف\"))"
   ]
  },
  {
   "cell_type": "code",
   "execution_count": 11,
   "id": "interpreted-certificate",
   "metadata": {},
   "outputs": [
    {
     "name": "stdout",
     "output_type": "stream",
     "text": [
      "mohamed is going to visit  jhjh\n"
     ]
    }
   ],
   "source": [
    "# Go to URL\n",
    "def rmURL(line):\n",
    "    import  re\n",
    "    pattern = re.compile(r'http[a-zA-Z0-9.?/&=:]*')\n",
    "    return pattern.sub('', line.strip())\n",
    "print(rmURL(\"mohamed is going to visit http://mabdelrehim.com/about jhjh\"))"
   ]
  },
  {
   "cell_type": "code",
   "execution_count": 12,
   "id": "forced-sterling",
   "metadata": {},
   "outputs": [
    {
     "name": "stdout",
     "output_type": "stream",
     "text": [
      "Requirement already satisfied: demoji in /anaconda/envs/data-env2/lib/python3.8/site-packages (0.4.0)\n",
      "Requirement already satisfied: colorama in /anaconda/envs/data-env2/lib/python3.8/site-packages (from demoji) (0.4.4)\n",
      "Requirement already satisfied: requests<3.0.0 in /anaconda/envs/data-env2/lib/python3.8/site-packages (from demoji) (2.25.1)\n",
      "Requirement already satisfied: certifi>=2017.4.17 in /anaconda/envs/data-env2/lib/python3.8/site-packages (from requests<3.0.0->demoji) (2020.12.5)\n",
      "Requirement already satisfied: urllib3<1.27,>=1.21.1 in /anaconda/envs/data-env2/lib/python3.8/site-packages (from requests<3.0.0->demoji) (1.26.3)\n",
      "Requirement already satisfied: idna<3,>=2.5 in /anaconda/envs/data-env2/lib/python3.8/site-packages (from requests<3.0.0->demoji) (2.10)\n",
      "Requirement already satisfied: chardet<5,>=3.0.2 in /anaconda/envs/data-env2/lib/python3.8/site-packages (from requests<3.0.0->demoji) (4.0.0)\n"
     ]
    }
   ],
   "source": [
    "!pip install demoji"
   ]
  },
  {
   "cell_type": "code",
   "execution_count": 13,
   "id": "motivated-prayer",
   "metadata": {},
   "outputs": [
    {
     "name": "stdout",
     "output_type": "stream",
     "text": [
      "Downloading emoji data ...\n",
      "... OK (Got response in 0.16 seconds)\n",
      "Writing emoji data to /home/nlp-mt/.demoji/codes.json ...\n",
      "... OK\n",
      "'I bet you didn't know that :person raising hand:, :person raising hand:‍♂️, and :woman raising hand: are three different emojis.\n"
     ]
    }
   ],
   "source": [
    "import demoji\n",
    "demoji.download_codes()\n",
    "print(demoji.replace_with_desc(\"'I bet you didn't know that 🙋, 🙋‍♂️, and 🙋‍♀️ are three different emojis.\"))"
   ]
  },
  {
   "cell_type": "code",
   "execution_count": 14,
   "id": "continent-company",
   "metadata": {},
   "outputs": [
    {
     "name": "stdout",
     "output_type": "stream",
     "text": [
      "0123456789abcdefghijklmnopqrstuvwxyzABCDEFGHIJKLMNOPQRSTUVWXYZ!\"#$%&'()*+,-./:;<=>?@[\\]^_`{|}~ \t\n",
      "\u000b",
      "\f",
      "\n"
     ]
    }
   ],
   "source": [
    "import string\n",
    "print(string.printable)"
   ]
  },
  {
   "cell_type": "code",
   "execution_count": 15,
   "id": "sunrise-radio",
   "metadata": {},
   "outputs": [],
   "source": [
    "def lang_detect(src_sent: str, trg_sent: str, src_lang: str, trg_lang: str , fasttext_model):\n",
    "\n",
    "    \"\"\"\n",
    "\n",
    "    Takes a parallel pair of sentences in a parallel corpus and returns whether to remove the pair\n",
    "    or not based on\n",
    "        1- A large portion of the source sentence is in a language other than the source language\n",
    "        2- A large portion of the target sentence is in a language other than the target language\n",
    "\n",
    "    \"\"\"\n",
    "\n",
    "    detected_src, confidence_src = fasttext_model.predict(src_sent, k=1)\n",
    "    detected_src = detected_src[0].replace(\"__label__\", \"\")\n",
    "    confidence_src = confidence_src[0]\n",
    "\n",
    "    detected_trg, confidence_trg = fasttext_model.predict(trg_sent, k=1)\n",
    "    detected_trg = detected_trg[0].replace(\"__label__\", \"\")\n",
    "    confidence_trg = confidence_trg[0]\n",
    "\n",
    "    #print(detected_src,\"|||||||\",detected_src)\n",
    "\n",
    "    if (not (detected_src == src_lang)) or (not (detected_trg == trg_lang)):\n",
    "        print(f'src {detected_src} trg {detected_trg}')\n",
    "        return True\n",
    "    elif (confidence_src < 0.85) or (confidence_trg < 0.85):\n",
    "        print(f'confidence src {confidence_src} confidence trg {confidence_trg}')\n",
    "        return True\n",
    "    else:\n",
    "        print(f'src {detected_src} trg {detected_trg}')\n",
    "        print(f'confidence src {confidence_src} confidence trg {confidence_trg}')\n",
    "        return False\n"
   ]
  },
  {
   "cell_type": "code",
   "execution_count": 16,
   "id": "novel-hygiene",
   "metadata": {},
   "outputs": [
    {
     "name": "stdout",
     "output_type": "stream",
     "text": [
      "--2021-02-19 13:09:34--  https://dl.fbaipublicfiles.com/fasttext/supervised-models/lid.176.bin\n",
      "Resolving dl.fbaipublicfiles.com (dl.fbaipublicfiles.com)... 104.22.75.142, 104.22.74.142, 172.67.9.4, ...\n",
      "Connecting to dl.fbaipublicfiles.com (dl.fbaipublicfiles.com)|104.22.75.142|:443... connected.\n",
      "HTTP request sent, awaiting response... 200 OK\n",
      "Length: 131266198 (125M) [application/octet-stream]\n",
      "Saving to: 'lid.176.bin.1'\n",
      "\n",
      "lid.176.bin.1       100%[===================>] 125.18M  13.5MB/s    in 9.5s    \n",
      "\n",
      "2021-02-19 13:09:44 (13.2 MB/s) - 'lid.176.bin.1' saved [131266198/131266198]\n",
      "\n"
     ]
    }
   ],
   "source": [
    "!wget https://dl.fbaipublicfiles.com/fasttext/supervised-models/lid.176.bin"
   ]
  },
  {
   "cell_type": "code",
   "execution_count": 18,
   "id": "great-visit",
   "metadata": {},
   "outputs": [
    {
     "name": "stderr",
     "output_type": "stream",
     "text": [
      "Warning : `load_model` does not return WordVectorModel or SupervisedModel any more, but a `FastText` object which is very similar.\n"
     ]
    },
    {
     "name": "stdout",
     "output_type": "stream",
     "text": [
      "src zh trg ar\n",
      "confidence src 0.9829135537147522 confidence trg 0.9992139935493469\n"
     ]
    },
    {
     "data": {
      "text/plain": [
       "False"
      ]
     },
     "execution_count": 18,
     "metadata": {},
     "output_type": "execute_result"
    }
   ],
   "source": [
    "import fasttext\n",
    "fasttext_model = fasttext.load_model('lid.176.bin')\n",
    "lang_detect(src_sent=\"诊所将继续遵循 PHE 制定的 COVID-19 方案，有感染风险者应转诊至控制通道，而不是亲自前往诊所就诊。\", trg_sent=\"ستظل العيادات تتبع بروتوكول هيئة الصحة العامة في إنجلترا لكوفيد-19 فيما يتعلق بالأشخاص المعرضين لخطر الإصابة بالعدوى الذين يجب وضع إشارات تحذيرية لتحديدهم في مسار الاحتواء، عوضًا عن حضورهم جسديًّا.؟\", src_lang=\"zh\", trg_lang=\"ar\" , fasttext_model=fasttext_model)"
   ]
  },
  {
   "cell_type": "code",
   "execution_count": 19,
   "id": "contemporary-retailer",
   "metadata": {},
   "outputs": [
    {
     "name": "stdout",
     "output_type": "stream",
     "text": [
      "Downloading models into /anaconda/envs/data-env2/lib/python3.8/site-packages/laserembeddings/data\n",
      "\n",
      "✅   Downloaded https://dl.fbaipublicfiles.com/laser/models/93langs.fcodes    \n",
      "✅   Downloaded https://dl.fbaipublicfiles.com/laser/models/93langs.fvocab    \n",
      "✅   Downloaded https://dl.fbaipublicfiles.com/laser/models/bilstm.93langs.2018-12-26.pt    \n",
      "\n",
      "✨ You're all set!\n"
     ]
    }
   ],
   "source": [
    "!pip install laserembeddings\n",
    "!pip install laserembeddings[zh]\n",
    "!pip install laserembeddings[ja]\n",
    "!python -m laserembeddings download-models"
   ]
  },
  {
   "cell_type": "code",
   "execution_count": 7,
   "id": "impressive-incident",
   "metadata": {},
   "outputs": [],
   "source": [
    "from laserembeddings import Laser\n",
    "from sklearn.metrics.pairwise import cosine_similarity\n",
    "laser = Laser()\n",
    "\n",
    "def laser_filter(laser_model, src: str, trg: str, src_lang: str, trg_lang: str):\n",
    "    \"\"\"\n",
    "    \n",
    "    The laser model tries to embed sentences that are of the same meaning with similar embeddings\n",
    "    basic experimentation tells that sentences with cosine similarity score >= 0.8 are of acceptable quality\n",
    "    \n",
    "    \"\"\"\n",
    "    embeddings_a = laser_model.embed_sentences(\n",
    "        [src],\n",
    "        lang=src_lang)\n",
    "    embeddings_b = laser_model.embed_sentences(\n",
    "        [trg],\n",
    "        lang=trg_lang)\n",
    "    similarity_score = cosine_similarity(embeddings_a, embeddings_b).flatten()[0]\n",
    "    return similarity_score\n",
    "    "
   ]
  },
  {
   "cell_type": "code",
   "execution_count": 12,
   "id": "eastern-penalty",
   "metadata": {},
   "outputs": [
    {
     "data": {
      "text/plain": [
       "0.521637"
      ]
     },
     "execution_count": 12,
     "metadata": {},
     "output_type": "execute_result"
    }
   ],
   "source": [
    "laser_filter(laser, \"The ball is in the field\", \"في ماتش كورة بكرة مش عايزين نفوته\", \"en\", \"ar\")"
   ]
  },
  {
   "cell_type": "code",
   "execution_count": 27,
   "id": "preliminary-hungary",
   "metadata": {},
   "outputs": [
    {
     "name": "stderr",
     "output_type": "stream",
     "text": [
      "1it [00:07,  7.93s/it]\n",
      "0it [00:00, ?it/s]"
     ]
    },
    {
     "name": "stdout",
     "output_type": "stream",
     "text": [
      "---- Calculated laser embeddings for 3035 sentences from source language in 0.0,  mins , 7.928884983062744 ,  secs\n",
      "(3035, 1024)\n"
     ]
    },
    {
     "name": "stderr",
     "output_type": "stream",
     "text": [
      "1it [00:02,  2.44s/it]\n",
      "344it [00:00, 3431.58it/s]"
     ]
    },
    {
     "name": "stdout",
     "output_type": "stream",
     "text": [
      "---- Calculated laser embeddings for 3035 sentences from target language in 0.0,  mins , 2.4450862407684326,  secs\n",
      "(3035, 1024)\n"
     ]
    },
    {
     "name": "stderr",
     "output_type": "stream",
     "text": [
      "3035it [00:00, 3301.69it/s]"
     ]
    },
    {
     "name": "stdout",
     "output_type": "stream",
     "text": [
      "---- Calculated cosine for 3035 pairs in 0.0,  mins , 0.9201710224151611 % 60,  secs\n"
     ]
    },
    {
     "name": "stderr",
     "output_type": "stream",
     "text": [
      "\n"
     ]
    }
   ],
   "source": [
    "\n",
    "import argparse\n",
    "from pathlib import Path\n",
    "import pandas as pd\n",
    "import os\n",
    "import time\n",
    "import fasttext\n",
    "from laserembeddings import Laser\n",
    "from tqdm import tqdm\n",
    "import numpy as np\n",
    "\n",
    "\n",
    "\n",
    "def batched_laser_filter(laser_model, sources, targets, src_lang: str, trg_lang: str, batch_size=4096):\n",
    "    \"\"\"\n",
    "    \n",
    "    The laser model tries to embed sentences that are of the same meaning with similar embeddings\n",
    "    basic experimentation tells that sentences with cosine similarity score >= 0.8 are of acceptable quality\n",
    "    \n",
    "    \"\"\"\n",
    "    start = time.time()\n",
    "    i = 0\n",
    "    embeddings_a = []\n",
    "    with tqdm(total=len(sources) // batch_size) as pbar:\n",
    "        while i < len(sources):\n",
    "            embeddings_a.extend(laser_model.embed_sentences(\n",
    "            sources[i:i+batch_size],\n",
    "            lang=src_lang))\n",
    "            i = i + batch_size\n",
    "            pbar.update(1)\n",
    "    end = time.time()\n",
    "    elapsed = end - start\n",
    "    print(f\"---- Calculated laser embeddings for {len(sources)} sentences from source language in {elapsed // 60},  mins , {elapsed % 60} ,  secs\")\n",
    "    print(np.array(embeddings_a).shape)\n",
    "    start = time.time()\n",
    "    i = 0\n",
    "    embeddings_b = []\n",
    "    with tqdm(total=len(targets) // batch_size) as pbar:\n",
    "        while i < len(targets):\n",
    "            embeddings_b.extend(laser_model.embed_sentences(\n",
    "            targets[i:i+batch_size],\n",
    "            lang=trg_lang))\n",
    "            i = i + batch_size\n",
    "            pbar.update(1)\n",
    "    end = time.time()\n",
    "    elapsed = end - start\n",
    "    print(f\"---- Calculated laser embeddings for {len(targets)} sentences from target language in {elapsed // 60},  mins , {elapsed % 60},  secs\")\n",
    "    print(np.array(embeddings_b).shape)\n",
    "    similarities = []\n",
    "    start = time.time()\n",
    "    for a, b in tqdm(zip(embeddings_a, embeddings_b)):\n",
    "        similarities.append(cosine_similarity([a], [b]).flatten()[0])\n",
    "    end = time.time()\n",
    "    elapsed = end - start\n",
    "    print(f\"---- Calculated cosine for {len(targets)} pairs in {elapsed // 60},  mins , {elapsed} % 60,  secs\")\n",
    "    return similarities\n",
    "\n",
    "\n",
    "laser = Laser()\n",
    "data_file_src = open(os.path.join(\"../tico-19\", \"data\" + \".\" + \"zh\" + \".clean\"), \"r\")\n",
    "data_file_trg = open(os.path.join(\"../tico-19\", \"data\" + \".\" + \"en\" + \".clean\"), \"r\")\n",
    "\n",
    "src_sents = data_file_src.readlines()\n",
    "trg_sents = data_file_trg.readlines()\n",
    "\n",
    "df = pd.DataFrame(\n",
    "    {\n",
    "        \"zh\": src_sents,\n",
    "        \"en\": trg_sents,\n",
    "        \"similarities\": batched_laser_filter(laser, src_sents, trg_sents, \"zh\", \"en\")\n",
    "    }\n",
    ")\n",
    "# apply length alignment filter\n",
    "before = len(df)\n",
    "start = time.time()\n",
    "df = df[df['similarities'] < 0.7]\n",
    "df = df[[args.src_lang, args.trg_lang]]\n",
    "df = df.reset_index()\n",
    "end = time.time()\n",
    "after = len(df)\n",
    "removed = before - after\n",
    "elapsed = end - start\n",
    "print(\"---- Removed \", removed, \" pairs that are too different in lengths\", elapsed // 60, \" mins \", elapsed % 60, \" secs\")\n"
   ]
  },
  {
   "cell_type": "code",
   "execution_count": 20,
   "id": "devoted-rachel",
   "metadata": {},
   "outputs": [
    {
     "name": "stdout",
     "output_type": "stream",
     "text": [
      "[[0.63764677]]\n"
     ]
    }
   ],
   "source": [
    "from sklearn.metrics.pairwise import cosine_similarity\n",
    "print(cosine_similarity([[1, 1, 1]], [[1, 10, 100]]))"
   ]
  },
  {
   "cell_type": "code",
   "execution_count": 26,
   "id": "consolidated-kuwait",
   "metadata": {},
   "outputs": [
    {
     "data": {
      "text/html": [
       "<div>\n",
       "<style scoped>\n",
       "    .dataframe tbody tr th:only-of-type {\n",
       "        vertical-align: middle;\n",
       "    }\n",
       "\n",
       "    .dataframe tbody tr th {\n",
       "        vertical-align: top;\n",
       "    }\n",
       "\n",
       "    .dataframe thead th {\n",
       "        text-align: right;\n",
       "    }\n",
       "</style>\n",
       "<table border=\"1\" class=\"dataframe\">\n",
       "  <thead>\n",
       "    <tr style=\"text-align: right;\">\n",
       "      <th></th>\n",
       "      <th>zh</th>\n",
       "      <th>en</th>\n",
       "      <th>similarities</th>\n",
       "    </tr>\n",
       "  </thead>\n",
       "  <tbody>\n",
       "    <tr>\n",
       "      <th>0</th>\n",
       "      <td>这些 症状 已 持续 多长时间 ？\\n</td>\n",
       "      <td>about how long have these symptoms been going ...</td>\n",
       "      <td>[[0.8719396]]</td>\n",
       "    </tr>\n",
       "    <tr>\n",
       "      <th>1</th>\n",
       "      <td>各种 胸痛 均 应 采取 这种 方法 进行 治疗 ， 尤其 要 考虑 年龄 因素\\n</td>\n",
       "      <td>and all chest pain should be treated this way ...</td>\n",
       "      <td>[[0.7698772]]</td>\n",
       "    </tr>\n",
       "    <tr>\n",
       "      <th>2</th>\n",
       "      <td>还 需要 检查一下 胆固醇 和 血压\\n</td>\n",
       "      <td>and also needs to be checked your cholesterol ...</td>\n",
       "      <td>[[0.8304562]]</td>\n",
       "    </tr>\n",
       "    <tr>\n",
       "      <th>3</th>\n",
       "      <td>您 现在 有 发热 吗 ？\\n</td>\n",
       "      <td>and are you having a fever now ?\\n</td>\n",
       "      <td>[[0.76542723]]</td>\n",
       "    </tr>\n",
       "    <tr>\n",
       "      <th>4</th>\n",
       "      <td>您 的 胸痛 伴有 以下 任何 症状 吗\\n</td>\n",
       "      <td>and are you having any of the following sympto...</td>\n",
       "      <td>[[0.7107259]]</td>\n",
       "    </tr>\n",
       "    <tr>\n",
       "      <th>5</th>\n",
       "      <td>您 有 流鼻涕 吗 ？\\n</td>\n",
       "      <td>and are you having a runny nose ?\\n</td>\n",
       "      <td>[[0.7137053]]</td>\n",
       "    </tr>\n",
       "    <tr>\n",
       "      <th>6</th>\n",
       "      <td>现在 您 有 这种 胸痛 症状 吗 ？\\n</td>\n",
       "      <td>and are you having this chest pain now ?\\n</td>\n",
       "      <td>[[0.80969715]]</td>\n",
       "    </tr>\n",
       "    <tr>\n",
       "      <th>7</th>\n",
       "      <td>另外 您 有 呼吸困难 吗\\n</td>\n",
       "      <td>and besides do you have difficulty breathing\\n</td>\n",
       "      <td>[[0.70627165]]</td>\n",
       "    </tr>\n",
       "    <tr>\n",
       "      <th>8</th>\n",
       "      <td>您 能 描述 一下 除此之外 还有 什么 其他 症状 吗 ？\\n</td>\n",
       "      <td>and can you tell me what other symptoms are yo...</td>\n",
       "      <td>[[0.8041169]]</td>\n",
       "    </tr>\n",
       "    <tr>\n",
       "      <th>9</th>\n",
       "      <td>这种 疼痛 是从 您 胸部 延伸 出来 的 吗 ？\\n</td>\n",
       "      <td>and does this pain move from your chest ?\\n</td>\n",
       "      <td>[[0.79879177]]</td>\n",
       "    </tr>\n",
       "    <tr>\n",
       "      <th>10</th>\n",
       "      <td>您 发热 达到 多少度\\n</td>\n",
       "      <td>and how high has your fever been\\n</td>\n",
       "      <td>[[0.49977097]]</td>\n",
       "    </tr>\n",
       "    <tr>\n",
       "      <th>11</th>\n",
       "      <td>我 还有 咳嗽 症状\\n</td>\n",
       "      <td>and i have a cough too\\n</td>\n",
       "      <td>[[0.62017083]]</td>\n",
       "    </tr>\n",
       "    <tr>\n",
       "      <th>12</th>\n",
       "      <td>我 有点 感冒 而且 咳嗽\\n</td>\n",
       "      <td>and i have a little cold and a cough\\n</td>\n",
       "      <td>[[0.7254865]]</td>\n",
       "    </tr>\n",
       "    <tr>\n",
       "      <th>13</th>\n",
       "      <td>今天 我 的 胸部 真的 很痛\\n</td>\n",
       "      <td>and i 'm really having some bad chest pain tod...</td>\n",
       "      <td>[[0.64809144]]</td>\n",
       "    </tr>\n",
       "    <tr>\n",
       "      <th>14</th>\n",
       "      <td>现在 是 您 得 花粉症 的 时候 吗\\n</td>\n",
       "      <td>and is this the right time for your hay fever\\n</td>\n",
       "      <td>[[0.62398374]]</td>\n",
       "    </tr>\n",
       "    <tr>\n",
       "      <th>15</th>\n",
       "      <td>我 开始 胸痛\\n</td>\n",
       "      <td>and it get the chest pain\\n</td>\n",
       "      <td>[[0.66182923]]</td>\n",
       "    </tr>\n",
       "    <tr>\n",
       "      <th>16</th>\n",
       "      <td>我 想 我 有点 发热\\n</td>\n",
       "      <td>and i think i have a little bit of a fever\\n</td>\n",
       "      <td>[[0.7033]]</td>\n",
       "    </tr>\n",
       "    <tr>\n",
       "      <th>17</th>\n",
       "      <td>我 希望 您 描述 一下 胸痛 的 部位\\n</td>\n",
       "      <td>and i want you to describe where the chest pai...</td>\n",
       "      <td>[[0.76997334]]</td>\n",
       "    </tr>\n",
       "    <tr>\n",
       "      <th>18</th>\n",
       "      <td>她 也 出现 相同 的 症状\\n</td>\n",
       "      <td>and she is sorta have the same symptoms\\n</td>\n",
       "      <td>[[0.7306684]]</td>\n",
       "    </tr>\n",
       "    <tr>\n",
       "      <th>19</th>\n",
       "      <td>描述 一下 现在 有 什么 症状 ？\\n</td>\n",
       "      <td>and tell me what symptoms are you having now ?\\n</td>\n",
       "      <td>[[0.7791282]]</td>\n",
       "    </tr>\n",
       "    <tr>\n",
       "      <th>20</th>\n",
       "      <td>他们 也 出现 一定 程度 的 发热 症状\\n</td>\n",
       "      <td>and they 're having some fevers as well\\n</td>\n",
       "      <td>[[0.5861671]]</td>\n",
       "    </tr>\n",
       "    <tr>\n",
       "      <th>21</th>\n",
       "      <td>我 感觉 我 的 胸部 要 被 压扁 了\\n</td>\n",
       "      <td>and you know it feels like my chest is like go...</td>\n",
       "      <td>[[0.5742517]]</td>\n",
       "    </tr>\n",
       "    <tr>\n",
       "      <th>22</th>\n",
       "      <td>人们 一直 在 冲 我 咳嗽\\n</td>\n",
       "      <td>and you know people cough on me all the time\\n</td>\n",
       "      <td>[[0.6634863]]</td>\n",
       "    </tr>\n",
       "    <tr>\n",
       "      <th>23</th>\n",
       "      <td>您 现在 出现 胸痛 症状\\n</td>\n",
       "      <td>and you 're having chest pain\\n</td>\n",
       "      <td>[[0.7018118]]</td>\n",
       "    </tr>\n",
       "    <tr>\n",
       "      <th>24</th>\n",
       "      <td>您 的 症状 五天 内 不会 消失\\n</td>\n",
       "      <td>and your symptoms do not go away in five days\\n</td>\n",
       "      <td>[[0.8424001]]</td>\n",
       "    </tr>\n",
       "    <tr>\n",
       "      <th>25</th>\n",
       "      <td>您 曾 说 感觉 胸部 受到 挤压\\n</td>\n",
       "      <td>and you said this is a pressure in your chest\\n</td>\n",
       "      <td>[[0.6184803]]</td>\n",
       "    </tr>\n",
       "    <tr>\n",
       "      <th>26</th>\n",
       "      <td>家中 有没有 亲属 患有 心脏 问题 、 心脏病 、 心肌梗死 、 高 胆固醇 和 高血压\\n</td>\n",
       "      <td>anyone in the family have a heart problem hear...</td>\n",
       "      <td>[[0.8450624]]</td>\n",
       "    </tr>\n",
       "    <tr>\n",
       "      <th>27</th>\n",
       "      <td>除了 肌肉 酸痛 ， 您 还有 任何 其他 症状 或 问题 吗 ？\\n</td>\n",
       "      <td>any other symptoms or problems that you notice...</td>\n",
       "      <td>[[0.7166381]]</td>\n",
       "    </tr>\n",
       "    <tr>\n",
       "      <th>28</th>\n",
       "      <td>左胸 感到 刺痛 吗 ？\\n</td>\n",
       "      <td>any sharp pain on your left side of your chest...</td>\n",
       "      <td>[[0.73287725]]</td>\n",
       "    </tr>\n",
       "    <tr>\n",
       "      <th>29</th>\n",
       "      <td>家中 有没有 其他 亲属 生病 并 出现 与 您 一样 的 症状 ？\\n</td>\n",
       "      <td>are there other people sick as you at home wit...</td>\n",
       "      <td>[[0.8311484]]</td>\n",
       "    </tr>\n",
       "    <tr>\n",
       "      <th>30</th>\n",
       "      <td>您 现在 有 呼吸困难 吗 ？\\n</td>\n",
       "      <td>are you having any difficulty breathing now\\n</td>\n",
       "      <td>[[0.7597988]]</td>\n",
       "    </tr>\n",
       "    <tr>\n",
       "      <th>31</th>\n",
       "      <td>还有 任何 其他 症状 吗 ？\\n</td>\n",
       "      <td>are you having any other symptoms ?\\n</td>\n",
       "      <td>[[0.8575095]]</td>\n",
       "    </tr>\n",
       "    <tr>\n",
       "      <th>32</th>\n",
       "      <td>您 现在 感到 气促 吗 ？\\n</td>\n",
       "      <td>are you having any shortness of breath ?\\n</td>\n",
       "      <td>[[0.54921913]]</td>\n",
       "    </tr>\n",
       "    <tr>\n",
       "      <th>33</th>\n",
       "      <td>您 现在 还有 胸痛 吗\\n</td>\n",
       "      <td>are you still having the chest pain\\n</td>\n",
       "      <td>[[0.7534734]]</td>\n",
       "    </tr>\n",
       "    <tr>\n",
       "      <th>34</th>\n",
       "      <td>因为 现在 是 流感 季节\\n</td>\n",
       "      <td>because this is flu season\\n</td>\n",
       "      <td>[[0.851743]]</td>\n",
       "    </tr>\n",
       "    <tr>\n",
       "      <th>35</th>\n",
       "      <td>除了 糖尿病 ， 您 还有 其他 问题 或 严重 疾病 吗 ？\\n</td>\n",
       "      <td>besides the diabetes do you have other problem...</td>\n",
       "      <td>[[0.8972838]]</td>\n",
       "    </tr>\n",
       "    <tr>\n",
       "      <th>36</th>\n",
       "      <td>同时 ， 我们 不 应 排除 心源性 胸痛\\n</td>\n",
       "      <td>but also we should n't be put aside for the he...</td>\n",
       "      <td>[[0.76928556]]</td>\n",
       "    </tr>\n",
       "    <tr>\n",
       "      <th>37</th>\n",
       "      <td>但 现在 更 重要 的 问题 是 胸痛\\n</td>\n",
       "      <td>but a more important problem now is this chest...</td>\n",
       "      <td>[[0.8255325]]</td>\n",
       "    </tr>\n",
       "    <tr>\n",
       "      <th>38</th>\n",
       "      <td>但 如果 您 有 咳嗽\\n</td>\n",
       "      <td>but if you have the cough\\n</td>\n",
       "      <td>[[0.70588833]]</td>\n",
       "    </tr>\n",
       "    <tr>\n",
       "      <th>39</th>\n",
       "      <td>但 我 有 呼吸困难\\n</td>\n",
       "      <td>but i have difficulty breathing\\n</td>\n",
       "      <td>[[0.8117746]]</td>\n",
       "    </tr>\n",
       "    <tr>\n",
       "      <th>40</th>\n",
       "      <td>但 我 知道 很多 人冲 我 咳嗽\\n</td>\n",
       "      <td>but i know lot of people cough on me\\n</td>\n",
       "      <td>[[0.7697]]</td>\n",
       "    </tr>\n",
       "    <tr>\n",
       "      <th>41</th>\n",
       "      <td>我们 需要 严肃 对待 每 一种 胸痛\\n</td>\n",
       "      <td>but we need to treat every chest pain with the...</td>\n",
       "      <td>[[0.7421412]]</td>\n",
       "    </tr>\n",
       "    <tr>\n",
       "      <th>42</th>\n",
       "      <td>但 您 目前 呼吸 顺畅 ， 对 吗 ？\\n</td>\n",
       "      <td>but you 're breathing all right right now righ...</td>\n",
       "      <td>[[0.76884115]]</td>\n",
       "    </tr>\n",
       "    <tr>\n",
       "      <th>43</th>\n",
       "      <td>完全 忘记 造成 这次 胸痛 的 原因\\n</td>\n",
       "      <td>'cause of this chest pain i totally forgot\\n</td>\n",
       "      <td>[[0.67875767]]</td>\n",
       "    </tr>\n",
       "    <tr>\n",
       "      <th>44</th>\n",
       "      <td>他们 存在 咳嗽 症状\\n</td>\n",
       "      <td>'cause they 're having a cough\\n</td>\n",
       "      <td>[[0.5451053]]</td>\n",
       "    </tr>\n",
       "    <tr>\n",
       "      <th>45</th>\n",
       "      <td>感觉 有人 在 挤压 您 的 胸部 吗\\n</td>\n",
       "      <td>does it feel like somebody squeezing your chest\\n</td>\n",
       "      <td>[[0.7195026]]</td>\n",
       "    </tr>\n",
       "    <tr>\n",
       "      <th>46</th>\n",
       "      <td>仍然 感到 气促\\n</td>\n",
       "      <td>do still feel like shortness of breath\\n</td>\n",
       "      <td>[[0.5321504]]</td>\n",
       "    </tr>\n",
       "    <tr>\n",
       "      <th>47</th>\n",
       "      <td>他们 也 在 抱怨 身体 不适 并 出现 类似 症状 吗 ？\\n</td>\n",
       "      <td>do they complain of being sick similar symptom...</td>\n",
       "      <td>[[0.79700744]]</td>\n",
       "    </tr>\n",
       "    <tr>\n",
       "      <th>48</th>\n",
       "      <td>据 您 所知 ， 您 的 血压 有 问题 吗 ？\\n</td>\n",
       "      <td>do you have any blood pressure problem as far ...</td>\n",
       "      <td>[[0.7841612]]</td>\n",
       "    </tr>\n",
       "    <tr>\n",
       "      <th>49</th>\n",
       "      <td>您 还有 任何 其他 慢性病 吗 ？ 比如 ， 高血压 或 类似 疾病 。\\n</td>\n",
       "      <td>do you have any other chronic like high blood ...</td>\n",
       "      <td>[[0.869563]]</td>\n",
       "    </tr>\n",
       "  </tbody>\n",
       "</table>\n",
       "</div>"
      ],
      "text/plain": [
       "                                                 zh  \\\n",
       "0                               这些 症状 已 持续 多长时间 ？\\n   \n",
       "1        各种 胸痛 均 应 采取 这种 方法 进行 治疗 ， 尤其 要 考虑 年龄 因素\\n   \n",
       "2                              还 需要 检查一下 胆固醇 和 血压\\n   \n",
       "3                                   您 现在 有 发热 吗 ？\\n   \n",
       "4                            您 的 胸痛 伴有 以下 任何 症状 吗\\n   \n",
       "5                                     您 有 流鼻涕 吗 ？\\n   \n",
       "6                             现在 您 有 这种 胸痛 症状 吗 ？\\n   \n",
       "7                                   另外 您 有 呼吸困难 吗\\n   \n",
       "8                  您 能 描述 一下 除此之外 还有 什么 其他 症状 吗 ？\\n   \n",
       "9                       这种 疼痛 是从 您 胸部 延伸 出来 的 吗 ？\\n   \n",
       "10                                    您 发热 达到 多少度\\n   \n",
       "11                                     我 还有 咳嗽 症状\\n   \n",
       "12                                  我 有点 感冒 而且 咳嗽\\n   \n",
       "13                                今天 我 的 胸部 真的 很痛\\n   \n",
       "14                            现在 是 您 得 花粉症 的 时候 吗\\n   \n",
       "15                                        我 开始 胸痛\\n   \n",
       "16                                    我 想 我 有点 发热\\n   \n",
       "17                           我 希望 您 描述 一下 胸痛 的 部位\\n   \n",
       "18                                 她 也 出现 相同 的 症状\\n   \n",
       "19                             描述 一下 现在 有 什么 症状 ？\\n   \n",
       "20                          他们 也 出现 一定 程度 的 发热 症状\\n   \n",
       "21                           我 感觉 我 的 胸部 要 被 压扁 了\\n   \n",
       "22                                 人们 一直 在 冲 我 咳嗽\\n   \n",
       "23                                  您 现在 出现 胸痛 症状\\n   \n",
       "24                              您 的 症状 五天 内 不会 消失\\n   \n",
       "25                              您 曾 说 感觉 胸部 受到 挤压\\n   \n",
       "26  家中 有没有 亲属 患有 心脏 问题 、 心脏病 、 心肌梗死 、 高 胆固醇 和 高血压\\n   \n",
       "27              除了 肌肉 酸痛 ， 您 还有 任何 其他 症状 或 问题 吗 ？\\n   \n",
       "28                                   左胸 感到 刺痛 吗 ？\\n   \n",
       "29             家中 有没有 其他 亲属 生病 并 出现 与 您 一样 的 症状 ？\\n   \n",
       "30                                您 现在 有 呼吸困难 吗 ？\\n   \n",
       "31                                还有 任何 其他 症状 吗 ？\\n   \n",
       "32                                 您 现在 感到 气促 吗 ？\\n   \n",
       "33                                   您 现在 还有 胸痛 吗\\n   \n",
       "34                                  因为 现在 是 流感 季节\\n   \n",
       "35                除了 糖尿病 ， 您 还有 其他 问题 或 严重 疾病 吗 ？\\n   \n",
       "36                          同时 ， 我们 不 应 排除 心源性 胸痛\\n   \n",
       "37                            但 现在 更 重要 的 问题 是 胸痛\\n   \n",
       "38                                    但 如果 您 有 咳嗽\\n   \n",
       "39                                     但 我 有 呼吸困难\\n   \n",
       "40                              但 我 知道 很多 人冲 我 咳嗽\\n   \n",
       "41                            我们 需要 严肃 对待 每 一种 胸痛\\n   \n",
       "42                           但 您 目前 呼吸 顺畅 ， 对 吗 ？\\n   \n",
       "43                            完全 忘记 造成 这次 胸痛 的 原因\\n   \n",
       "44                                    他们 存在 咳嗽 症状\\n   \n",
       "45                            感觉 有人 在 挤压 您 的 胸部 吗\\n   \n",
       "46                                       仍然 感到 气促\\n   \n",
       "47                 他们 也 在 抱怨 身体 不适 并 出现 类似 症状 吗 ？\\n   \n",
       "48                       据 您 所知 ， 您 的 血压 有 问题 吗 ？\\n   \n",
       "49          您 还有 任何 其他 慢性病 吗 ？ 比如 ， 高血压 或 类似 疾病 。\\n   \n",
       "\n",
       "                                                   en    similarities  \n",
       "0   about how long have these symptoms been going ...   [[0.8719396]]  \n",
       "1   and all chest pain should be treated this way ...   [[0.7698772]]  \n",
       "2   and also needs to be checked your cholesterol ...   [[0.8304562]]  \n",
       "3                  and are you having a fever now ?\\n  [[0.76542723]]  \n",
       "4   and are you having any of the following sympto...   [[0.7107259]]  \n",
       "5                 and are you having a runny nose ?\\n   [[0.7137053]]  \n",
       "6          and are you having this chest pain now ?\\n  [[0.80969715]]  \n",
       "7      and besides do you have difficulty breathing\\n  [[0.70627165]]  \n",
       "8   and can you tell me what other symptoms are yo...   [[0.8041169]]  \n",
       "9         and does this pain move from your chest ?\\n  [[0.79879177]]  \n",
       "10                 and how high has your fever been\\n  [[0.49977097]]  \n",
       "11                           and i have a cough too\\n  [[0.62017083]]  \n",
       "12             and i have a little cold and a cough\\n   [[0.7254865]]  \n",
       "13  and i 'm really having some bad chest pain tod...  [[0.64809144]]  \n",
       "14    and is this the right time for your hay fever\\n  [[0.62398374]]  \n",
       "15                        and it get the chest pain\\n  [[0.66182923]]  \n",
       "16       and i think i have a little bit of a fever\\n      [[0.7033]]  \n",
       "17  and i want you to describe where the chest pai...  [[0.76997334]]  \n",
       "18          and she is sorta have the same symptoms\\n   [[0.7306684]]  \n",
       "19   and tell me what symptoms are you having now ?\\n   [[0.7791282]]  \n",
       "20          and they 're having some fevers as well\\n   [[0.5861671]]  \n",
       "21  and you know it feels like my chest is like go...   [[0.5742517]]  \n",
       "22     and you know people cough on me all the time\\n   [[0.6634863]]  \n",
       "23                    and you 're having chest pain\\n   [[0.7018118]]  \n",
       "24    and your symptoms do not go away in five days\\n   [[0.8424001]]  \n",
       "25    and you said this is a pressure in your chest\\n   [[0.6184803]]  \n",
       "26  anyone in the family have a heart problem hear...   [[0.8450624]]  \n",
       "27  any other symptoms or problems that you notice...   [[0.7166381]]  \n",
       "28  any sharp pain on your left side of your chest...  [[0.73287725]]  \n",
       "29  are there other people sick as you at home wit...   [[0.8311484]]  \n",
       "30      are you having any difficulty breathing now\\n   [[0.7597988]]  \n",
       "31              are you having any other symptoms ?\\n   [[0.8575095]]  \n",
       "32         are you having any shortness of breath ?\\n  [[0.54921913]]  \n",
       "33              are you still having the chest pain\\n   [[0.7534734]]  \n",
       "34                       because this is flu season\\n    [[0.851743]]  \n",
       "35  besides the diabetes do you have other problem...   [[0.8972838]]  \n",
       "36  but also we should n't be put aside for the he...  [[0.76928556]]  \n",
       "37  but a more important problem now is this chest...   [[0.8255325]]  \n",
       "38                        but if you have the cough\\n  [[0.70588833]]  \n",
       "39                  but i have difficulty breathing\\n   [[0.8117746]]  \n",
       "40             but i know lot of people cough on me\\n      [[0.7697]]  \n",
       "41  but we need to treat every chest pain with the...   [[0.7421412]]  \n",
       "42  but you 're breathing all right right now righ...  [[0.76884115]]  \n",
       "43       'cause of this chest pain i totally forgot\\n  [[0.67875767]]  \n",
       "44                   'cause they 're having a cough\\n   [[0.5451053]]  \n",
       "45  does it feel like somebody squeezing your chest\\n   [[0.7195026]]  \n",
       "46           do still feel like shortness of breath\\n   [[0.5321504]]  \n",
       "47  do they complain of being sick similar symptom...  [[0.79700744]]  \n",
       "48  do you have any blood pressure problem as far ...   [[0.7841612]]  \n",
       "49  do you have any other chronic like high blood ...    [[0.869563]]  "
      ]
     },
     "execution_count": 26,
     "metadata": {},
     "output_type": "execute_result"
    }
   ],
   "source": [
    "df.head(50)"
   ]
  },
  {
   "cell_type": "code",
   "execution_count": null,
   "id": "exotic-server",
   "metadata": {},
   "outputs": [],
   "source": []
  }
 ],
 "metadata": {
  "kernelspec": {
   "display_name": "data-env2",
   "language": "python",
   "name": "conda-env-data-env2-py"
  },
  "language_info": {
   "codemirror_mode": {
    "name": "ipython",
    "version": 3
   },
   "file_extension": ".py",
   "mimetype": "text/x-python",
   "name": "python",
   "nbconvert_exporter": "python",
   "pygments_lexer": "ipython3",
   "version": "3.8.5"
  }
 },
 "nbformat": 4,
 "nbformat_minor": 5
}
